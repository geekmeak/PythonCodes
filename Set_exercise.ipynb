{
 "cells": [
  {
   "cell_type": "markdown",
   "metadata": {},
   "source": [
    "# Proprties of set\n"
   ]
  },
  {
   "cell_type": "markdown",
   "metadata": {},
   "source": [
    "1. Set is an unordered collection of items. can not be indexed\n",
    "2. Every elnoement is unique(not duplicate)\n",
    "3. Sets are mutable\n",
    "4. Can be used to perform mathematical set operation like union, intersection,symetry, difference etc.\n",
    "\n"
   ]
  },
  {
   "cell_type": "code",
   "execution_count": 1,
   "metadata": {},
   "outputs": [
    {
     "name": "stdout",
     "output_type": "stream",
     "text": [
      "{1, 2, 3, 4}\n"
     ]
    }
   ],
   "source": [
    "s = {1,2,3,4,1}  # 1 is repeaded will not be stored in s\n",
    "print(s)\n"
   ]
  },
  {
   "cell_type": "code",
   "execution_count": 7,
   "metadata": {},
   "outputs": [
    {
     "name": "stdout",
     "output_type": "stream",
     "text": [
      "{1, 2, 3, 4}\n",
      "After adding 6  {1, 2, 3, 4, 6}\n",
      "After updating {0, 1, 2, 3, 4, 6, 7}\n"
     ]
    }
   ],
   "source": [
    "lst = [1,2,3,4,1]\n",
    "s= set(lst) # creating set from a list\n",
    "print(s)\n",
    "\n",
    "s.add(6)\n",
    "print(\"After adding 6 \",s)\n",
    "\n",
    "s.update([7,3,0])\n",
    "print(\"After updating\", s)"
   ]
  },
  {
   "cell_type": "markdown",
   "metadata": {},
   "source": [
    "# Removing elements of set"
   ]
  },
  {
   "cell_type": "code",
   "execution_count": 12,
   "metadata": {},
   "outputs": [
    {
     "name": "stdout",
     "output_type": "stream",
     "text": [
      "discarded 4 {1, 2, 3}\n"
     ]
    }
   ],
   "source": [
    "s= set([1,2,3,4])\n",
    "s.discard(4) # removing 4 from the set\n",
    "print(\"discarded 4\",s)\n",
    "\n",
    "#s.remove(7) # will give error because 7 is not in set\n",
    "s.discard(7) # will nor give any error even if 7 is not in the list\n",
    "\n"
   ]
  },
  {
   "cell_type": "markdown",
   "metadata": {},
   "source": [
    "# pop removing randomly one element"
   ]
  },
  {
   "cell_type": "code",
   "execution_count": 18,
   "metadata": {},
   "outputs": [
    {
     "name": "stdout",
     "output_type": "stream",
     "text": [
      "{2, 3, 4, 5}\n",
      "set()\n"
     ]
    }
   ],
   "source": [
    "s={1,2,3,4,5}\n",
    "s.pop() # it will remove any one element\n",
    "print(s)\n",
    "\n",
    "s.clear() # remove all element in set\n",
    "print(s)"
   ]
  },
  {
   "cell_type": "markdown",
   "metadata": {},
   "source": [
    "# Union of two sets"
   ]
  },
  {
   "cell_type": "code",
   "execution_count": 21,
   "metadata": {},
   "outputs": [
    {
     "name": "stdout",
     "output_type": "stream",
     "text": [
      "{0, 1, 2, 3, 4, 5, 6, 7, 8, 9, 10}\n",
      "{0, 1, 2, 3, 4, 5, 6, 7, 8, 9, 10}\n"
     ]
    }
   ],
   "source": [
    "s1={1,2,3,4,5,6,7}\n",
    "s2={5,6,7,8,9,10,0}\n",
    "set3 = s1|s2 # take the union of set 1 snd 2 \n",
    "print(set3)\n",
    "\n",
    "set4 = s1.union(s2) # other method to take union\n",
    "print(set4)\n"
   ]
  },
  {
   "cell_type": "markdown",
   "metadata": {},
   "source": [
    "# Intersection of two serts"
   ]
  },
  {
   "cell_type": "code",
   "execution_count": 24,
   "metadata": {},
   "outputs": [
    {
     "name": "stdout",
     "output_type": "stream",
     "text": [
      "{5, 6, 7}\n",
      "{5, 6, 7}\n"
     ]
    }
   ],
   "source": [
    "s1={1,2,3,4,5,6,7}\n",
    "s2={5,6,7,8,9,10,0}\n",
    "s3 = s1 & s2\n",
    "print(s3)\n",
    "\n",
    "s4 = s1.intersection(s2)\n",
    "print(s4)"
   ]
  },
  {
   "cell_type": "markdown",
   "metadata": {},
   "source": [
    "# Set difference"
   ]
  },
  {
   "cell_type": "code",
   "execution_count": 26,
   "metadata": {},
   "outputs": [
    {
     "name": "stdout",
     "output_type": "stream",
     "text": [
      "{1, 2, 3, 4}\n",
      "{1, 2, 3, 4}\n"
     ]
    }
   ],
   "source": [
    "s1={1,2,3,4,5,6,7}\n",
    "s2={5,6,7,8,9,10,0}\n",
    "s3 = s1 - s2\n",
    "print(s3)\n",
    "\n",
    "s4 = s1.difference(s2)\n",
    "print(s4)"
   ]
  },
  {
   "cell_type": "markdown",
   "metadata": {},
   "source": [
    "# Symetric differece"
   ]
  },
  {
   "cell_type": "code",
   "execution_count": 28,
   "metadata": {},
   "outputs": [
    {
     "name": "stdout",
     "output_type": "stream",
     "text": [
      "{0, 1, 2, 3, 4, 8, 9, 10}\n",
      "{0, 1, 2, 3, 4, 8, 9, 10}\n"
     ]
    }
   ],
   "source": [
    " s1={1,2,3,4,5,6,7}\n",
    "s2={5,6,7,8,9,10,0}\n",
    "s3 = s1^s2 #  (s1 U s2)-(s1 intersection s2)\n",
    "print(s3)\n",
    "\n",
    "s4 = s1.symmetric_difference(s2)\n",
    "print(s4)"
   ]
  },
  {
   "cell_type": "markdown",
   "metadata": {},
   "source": [
    "# Subset"
   ]
  },
  {
   "cell_type": "code",
   "execution_count": 31,
   "metadata": {},
   "outputs": [
    {
     "name": "stdout",
     "output_type": "stream",
     "text": [
      "True\n"
     ]
    }
   ],
   "source": [
    "s1={1,2,3,4,5,6,7}\n",
    "s2={5,6,7}\n",
    "print(s2.issubset(s1))"
   ]
  },
  {
   "cell_type": "markdown",
   "metadata": {},
   "source": [
    "# Frozenset\n",
    "\n",
    "frozen set has characteristics of set but can't be change once assignd"
   ]
  },
  {
   "cell_type": "code",
   "execution_count": null,
   "metadata": {},
   "outputs": [],
   "source": [
    "set1= frozenset([1,2,3,4,5])\n",
    "set2 = frozenset([4,5,6,7,8])"
   ]
  }
 ],
 "metadata": {
  "kernelspec": {
   "display_name": "Python 3",
   "language": "python",
   "name": "python3"
  },
  "language_info": {
   "codemirror_mode": {
    "name": "ipython",
    "version": 3
   },
   "file_extension": ".py",
   "mimetype": "text/x-python",
   "name": "python",
   "nbconvert_exporter": "python",
   "pygments_lexer": "ipython3",
   "version": "3.8.3"
  }
 },
 "nbformat": 4,
 "nbformat_minor": 4
}
