{
 "cells": [
  {
   "cell_type": "markdown",
   "metadata": {},
   "source": [
    "# Properties of list"
   ]
  },
  {
   "cell_type": "raw",
   "metadata": {},
   "source": [
    "1. List is one of the sequence data structure\n",
    "2. List is a collection of items ( strings, integers, and list) \n",
    "3. Each item in list has assignd index value\n",
    "4. items in list is seperated by comma\n",
    "5. Lists are mutable."
   ]
  },
  {
   "cell_type": "code",
   "execution_count": 35,
   "metadata": {},
   "outputs": [
    {
     "name": "stdout",
     "output_type": "stream",
     "text": [
      "['one', 'two', 'three', 'four', 'five']\n"
     ]
    }
   ],
   "source": [
    "# List append \n",
    "lst = ['one', 'two', 'three', 'four']\n",
    "lst.append('five') # add at the end \n",
    "print(lst)"
   ]
  },
  {
   "cell_type": "code",
   "execution_count": 39,
   "metadata": {},
   "outputs": [
    {
     "name": "stdout",
     "output_type": "stream",
     "text": [
      "['one', 'two', 'three', 'four', ['Five', 'Six']]\n"
     ]
    }
   ],
   "source": [
    "# appending list\n",
    "lst = ['one', 'two' , 'three', 'four']\n",
    "lst2 = ['Five', 'Six']\n",
    "lst.append(lst2)  # add list two at end as a list\n",
    "\n",
    "print(lst)"
   ]
  },
  {
   "cell_type": "code",
   "execution_count": 40,
   "metadata": {},
   "outputs": [
    {
     "name": "stdout",
     "output_type": "stream",
     "text": [
      "['one', 'two', 'three', 'four', 'Five', 'Six']\n"
     ]
    }
   ],
   "source": [
    "# Extend in list\n",
    "\n",
    "lst = ['one', 'two' , 'three', 'four']\n",
    "lst2 = ['Five', 'Six']\n",
    "lst.extend(lst2) # Add list2 in list as elements on as list\n",
    "# or we can just add as lst + lst2 will give same result\n",
    "print(lst)\n"
   ]
  },
  {
   "cell_type": "code",
   "execution_count": 36,
   "metadata": {},
   "outputs": [
    {
     "name": "stdout",
     "output_type": "stream",
     "text": [
      "['one', 'two', 'Nine', 'three', 'four']\n"
     ]
    }
   ],
   "source": [
    "# List Insert\n",
    "lst = ['one', 'two' , 'three', 'four']\n",
    "lst.insert(2, 'Nine') # will add Nine at location 2\n",
    "print(lst)"
   ]
  },
  {
   "cell_type": "code",
   "execution_count": 37,
   "metadata": {},
   "outputs": [
    {
     "name": "stdout",
     "output_type": "stream",
     "text": [
      "['one', 'three', 'four']\n"
     ]
    }
   ],
   "source": [
    "# list remove\n",
    "lst = ['one', 'two' , 'three', 'four', 'tow']\n",
    "lst.remove('two') # it will remove first occurance of two\n",
    "print(lst)"
   ]
  },
  {
   "cell_type": "code",
   "execution_count": 44,
   "metadata": {},
   "outputs": [
    {
     "name": "stdout",
     "output_type": "stream",
     "text": [
      "['one', 'Nine', 'three', 'four']\n",
      "['one', 'Nine', 'three', 'four']\n",
      "two\n"
     ]
    }
   ],
   "source": [
    "# Delete \n",
    "lst = ['one', 'two', 'Nine', 'three', 'four']\n",
    "del lst[1]  # Delete the item at index 1\n",
    "print(lst)\n",
    "\n",
    "lst1 = ['one', 'two', 'Nine', 'three', 'four']\n",
    "a = lst1.pop(1) # Stored in variable a \n",
    "print(lst1)\n",
    "print(a)"
   ]
  },
  {
   "cell_type": "code",
   "execution_count": 46,
   "metadata": {},
   "outputs": [
    {
     "name": "stdout",
     "output_type": "stream",
     "text": [
      "['one', 'two', 'three', 'four']\n"
     ]
    }
   ],
   "source": [
    "# Remove\n",
    "lst = ['one', 'two', 'Nine', 'three', 'four']\n",
    "lst.remove('Nine') # remove by item exactly instead of index number\n",
    "print(lst)"
   ]
  },
  {
   "cell_type": "markdown",
   "metadata": {},
   "source": [
    "# List related keyword"
   ]
  },
  {
   "cell_type": "code",
   "execution_count": 54,
   "metadata": {},
   "outputs": [
    {
     "name": "stdout",
     "output_type": "stream",
     "text": [
      "OK\n",
      "Nine present\n",
      "['four', 'three', 'Nine', 'two', 'one']\n"
     ]
    }
   ],
   "source": [
    "# \"in\"\n",
    "lst = ['one', 'two', 'Nine', 'three', 'four']\n",
    "if 'two' in lst:\n",
    "    print('OK')\n",
    "\n",
    "    # \"Not\"\n",
    "if 'Nine' not in lst:\n",
    "    print(\"Nine absent\")\n",
    "else:\n",
    "    print(\"Nine present\")\n",
    "    \n",
    "# \"Reverse\"\n",
    "lst = ['one', 'two', 'Nine', 'three', 'four']\n",
    "lst.reverse()\n",
    "print(lst)\n"
   ]
  },
  {
   "cell_type": "code",
   "execution_count": 59,
   "metadata": {},
   "outputs": [
    {
     "name": "stdout",
     "output_type": "stream",
     "text": [
      "[1, 2, 3, 5, 8]\n"
     ]
    }
   ],
   "source": [
    "# \"sort\"\n",
    "lst = [5, 2, 8, 1, 3]\n",
    "lst.sort() # sort and put int original list \n",
    "print(lst)"
   ]
  },
  {
   "cell_type": "code",
   "execution_count": 58,
   "metadata": {},
   "outputs": [
    {
     "name": "stdout",
     "output_type": "stream",
     "text": [
      "[1, 2, 3, 5, 8]\n",
      "[8, 5, 3, 2, 1]\n"
     ]
    }
   ],
   "source": [
    "# \"sortd\" \n",
    "\n",
    "# lst = ['one', 'two', 'Nine', 'three', 'four']\n",
    "lst = [5, 2, 8, 1, 3]\n",
    "\n",
    "sorted_lst = sorted(lst) # sort the list and store in new var\n",
    "print(sorted_lst)\n",
    "\n",
    "# reverse sorting\n",
    "reverse_sort = sorted(lst, reverse=True)\n",
    "print(reverse_sort)"
   ]
  },
  {
   "cell_type": "code",
   "execution_count": 70,
   "metadata": {},
   "outputs": [
    {
     "name": "stdout",
     "output_type": "stream",
     "text": [
      "Memory location of list: 92288654784\n",
      "Memory location of abc: 92288654784\n",
      "[5, 2, 8, 1, 3, 6]\n"
     ]
    }
   ],
   "source": [
    "# List having multiple memory location\n",
    "lst = [5, 2, 8, 1, 3]\n",
    "abc = lst # creating another variable which is pointing to the same location as lst call d pointer\n",
    "print(\"Memory location of list:\",id(lst))\n",
    "print(\"Memory location of abc:\", id(abc))\n",
    "\n",
    "abc.append(6) # appending in abc will append in original list too\n",
    "print(lst)"
   ]
  },
  {
   "cell_type": "code",
   "execution_count": 75,
   "metadata": {},
   "outputs": [
    {
     "name": "stdout",
     "output_type": "stream",
     "text": [
      "['This', 'is', 'Asheesh', 'Kumar']\n",
      "['This', 'is', 'Asheesh', 'Kumar']\n"
     ]
    }
   ],
   "source": [
    "# String splitting stored as list\n",
    "string = \"This is Asheesh Kumar\"\n",
    "splited = string.split() # Default split is White-character\n",
    "print(splited)\n",
    "\n",
    "string = \"This_is_Asheesh_Kumar\"\n",
    "splitted2 = string.split('_') # split by underscore(_)\n",
    "print(splitted2)\n"
   ]
  },
  {
   "cell_type": "code",
   "execution_count": null,
   "metadata": {},
   "outputs": [],
   "source": [
    "# Indexig of string\n",
    "\n",
    "# [start,end,stepsize]\n",
    "# 0,1,2,3,4,5,6,7\n",
    "# -8,-7,-6,-5,-4,-3,-2,-1"
   ]
  },
  {
   "cell_type": "code",
   "execution_count": 79,
   "metadata": {},
   "outputs": [
    {
     "name": "stdout",
     "output_type": "stream",
     "text": [
      "2\n"
     ]
    }
   ],
   "source": [
    "# \"Count\"\n",
    "lst =[5, 2, 8, 1, 3, 6,3,5,1]\n",
    "print(lst.count(3)) # finds the frequency of 3"
   ]
  },
  {
   "cell_type": "code",
   "execution_count": 80,
   "metadata": {},
   "outputs": [
    {
     "name": "stdout",
     "output_type": "stream",
     "text": [
      "5\n",
      "2\n",
      "8\n",
      "1\n",
      "3\n",
      "6\n"
     ]
    }
   ],
   "source": [
    "# looping in list\n",
    "lst = [5, 2, 8, 1, 3, 6]\n",
    "for num in lst:\n",
    "    print(num)"
   ]
  },
  {
   "cell_type": "code",
   "execution_count": 85,
   "metadata": {},
   "outputs": [
    {
     "name": "stdout",
     "output_type": "stream",
     "text": [
      "Squares: [0, 1, 4, 9, 16, 25, 36, 49, 64, 81]\n",
      "[0, 10, 20]\n"
     ]
    }
   ],
   "source": [
    "# list comprehension\n",
    "squares = [i**2 for i in range(10)] # mathematical: i^2 ∀  0<i<9\n",
    "print(\"Squares:\",squares)\n",
    "\n",
    "lst =[-20,-10,0,10,20]\n",
    "positive_num = [i for i in lst if i>=0 ]\n",
    "print(positive_num)"
   ]
  },
  {
   "cell_type": "code",
   "execution_count": 87,
   "metadata": {},
   "outputs": [
    {
     "name": "stdout",
     "output_type": "stream",
     "text": [
      "[[1, 5, 9], [2, 6, 10], [3, 7, 11], [4, 8, 12]]\n"
     ]
    }
   ],
   "source": [
    "# creating matrix and taking transpose of it\n",
    "\n",
    "matrix = [\n",
    "    [1,2,3,4],\n",
    "    [5,6,7,8],\n",
    "    [9,10,11,12]\n",
    "                ]\n",
    "transpose = []\n",
    "for i in range(4):\n",
    "    lst = []\n",
    "    for row in matrix:\n",
    "        lst.append(row[i])\n",
    "    transpose.append(lst)\n",
    "        \n",
    "print(transpose)"
   ]
  },
  {
   "cell_type": "code",
   "execution_count": 88,
   "metadata": {},
   "outputs": [
    {
     "name": "stdout",
     "output_type": "stream",
     "text": [
      "[[1, 5, 9], [2, 6, 10], [3, 7, 11], [4, 8, 12]]\n"
     ]
    }
   ],
   "source": [
    "# Other method to transpose\n",
    "transpose = [[row[i] for row in matrix] for i in range(4)]\n",
    "print(transpose)\n"
   ]
  },
  {
   "cell_type": "markdown",
   "metadata": {},
   "source": [
    "# Reversing a list"
   ]
  },
  {
   "cell_type": "code",
   "execution_count": 5,
   "metadata": {},
   "outputs": [
    {
     "name": "stdout",
     "output_type": "stream",
     "text": [
      "[200, 100]\n"
     ]
    }
   ],
   "source": [
    "aList = [100, 200, 300, 400, 500]\n",
    "aList = aList[1::-1]\n",
    "print(aList)"
   ]
  },
  {
   "cell_type": "markdown",
   "metadata": {},
   "source": [
    "# Concatenate two lists index-wise"
   ]
  },
  {
   "cell_type": "code",
   "execution_count": 6,
   "metadata": {},
   "outputs": [
    {
     "name": "stdout",
     "output_type": "stream",
     "text": [
      "['My', 'name', 'is', 'Kelly']\n"
     ]
    }
   ],
   "source": [
    "list1 = [\"M\", \"na\", \"i\", \"Ke\"] \n",
    "list2 = [\"y\", \"me\", \"s\", \"lly\"]\n",
    "list3 = [i + j for i, j in zip(list1, list2)]\n",
    "print(list3)"
   ]
  },
  {
   "cell_type": "markdown",
   "metadata": {},
   "source": [
    " # Turn every item of a list into its square"
   ]
  },
  {
   "cell_type": "code",
   "execution_count": 8,
   "metadata": {},
   "outputs": [
    {
     "name": "stdout",
     "output_type": "stream",
     "text": [
      "[1, 4, 9, 16, 25, 36, 49, 64, 81]\n"
     ]
    }
   ],
   "source": [
    "lst=[1,2,3,4,5,6,7,8,9]\n",
    "sqlst=[i*i for i in lst]\n",
    "print(sqlst)"
   ]
  },
  {
   "cell_type": "markdown",
   "metadata": {},
   "source": [
    "# Order the two strings"
   ]
  },
  {
   "cell_type": "code",
   "execution_count": 14,
   "metadata": {},
   "outputs": [
    {
     "name": "stdout",
     "output_type": "stream",
     "text": [
      "10 400\n",
      "20 300\n",
      "30 200\n",
      "40 100\n"
     ]
    }
   ],
   "source": [
    "list1 = [10, 20, 30, 40]\n",
    "list2 = [100, 200, 300, 400]\n",
    "for x, y in zip(list1, list2[::-1]):\n",
    "    print(x, y)"
   ]
  },
  {
   "cell_type": "markdown",
   "metadata": {},
   "source": [
    "# Remove empty strings from the list of strings"
   ]
  },
  {
   "cell_type": "code",
   "execution_count": 15,
   "metadata": {},
   "outputs": [
    {
     "name": "stdout",
     "output_type": "stream",
     "text": [
      "['Mike', 'Emma', 'Kelly', 'Brad']\n"
     ]
    }
   ],
   "source": [
    "list1 = [\"Mike\", \"\", \"Emma\", \"Kelly\", \"\", \"Brad\"]\n",
    "resList = list(filter(None, list1))\n",
    "print(resList)"
   ]
  },
  {
   "cell_type": "markdown",
   "metadata": {},
   "source": [
    "# Add item 7000 after 6000 in the following Python List"
   ]
  },
  {
   "cell_type": "code",
   "execution_count": 23,
   "metadata": {},
   "outputs": [
    {
     "name": "stdout",
     "output_type": "stream",
     "text": [
      "[10, 20, [300, 400, [5000, 6000], 500, 7000], 30, 40]\n"
     ]
    }
   ],
   "source": [
    "list1 = [10, 20, [300, 400, [5000, 6000], 500], 30, 40]\n",
    "list1[2][2].append(7000)\n",
    "print(list1)"
   ]
  },
  {
   "cell_type": "code",
   "execution_count": 25,
   "metadata": {},
   "outputs": [
    {
     "name": "stdout",
     "output_type": "stream",
     "text": [
      "3\n"
     ]
    }
   ],
   "source": [
    "# Finding the index of particular values\n",
    "\n",
    "list1 = [5, 10, 15, 20, 25, 50, 20]\n",
    "index = list1.index(20)\n",
    "print(index)"
   ]
  },
  {
   "cell_type": "code",
   "execution_count": null,
   "metadata": {},
   "outputs": [],
   "source": []
  }
 ],
 "metadata": {
  "kernelspec": {
   "display_name": "Python 3",
   "language": "python",
   "name": "python3"
  },
  "language_info": {
   "codemirror_mode": {
    "name": "ipython",
    "version": 3
   },
   "file_extension": ".py",
   "mimetype": "text/x-python",
   "name": "python",
   "nbconvert_exporter": "python",
   "pygments_lexer": "ipython3",
   "version": "3.8.3"
  }
 },
 "nbformat": 4,
 "nbformat_minor": 4
}
